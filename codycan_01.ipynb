{
 "cells": [
  {
   "cell_type": "markdown",
   "id": "83d003ca-d7b3-4a93-8fd0-5e4c175c1f66",
   "metadata": {},
   "source": [
    "# EDA, Data Cleaning, Modeling"
   ]
  },
  {
   "cell_type": "code",
   "execution_count": 1,
   "id": "643a618a-3d0d-4b0c-ae28-8c1350417d98",
   "metadata": {},
   "outputs": [],
   "source": [
    "import pandas as pd\n",
    "import numpy as np\n",
    "\n",
    "import warnings\n",
    "warnings.filterwarnings('ignore')\n",
    "\n",
    "import matplotlib.pyplot as plt\n",
    "from sklearn.model_selection import train_test_split\n",
    "from sklearn.linear_model import LogisticRegression\n",
    "from sklearn.metrics import ConfusionMatrixDisplay\n",
    "from sklearn.pipeline import Pipeline\n",
    "from sklearn.preprocessing import StandardScaler, OneHotEncoder\n",
    "from sklearn.compose import make_column_transformer\n",
    "from sklearn.impute import SimpleImputer, KNNImputer"
   ]
  },
  {
   "cell_type": "code",
   "execution_count": 2,
   "id": "a9e7ccfb-597c-4144-97de-a5bf168e782c",
   "metadata": {},
   "outputs": [
    {
     "data": {
      "text/plain": [
       "((59400, 40), (59400, 2))"
      ]
     },
     "execution_count": 2,
     "metadata": {},
     "output_type": "execute_result"
    }
   ],
   "source": [
    "X = pd.read_csv(\"Pump_it_Up_Data_Mining_the_Water_Table_-_Training_set_values.csv\")\n",
    "y = pd.read_csv(\"Pump_it_Up_Data_Mining_the_Water_Table_-_Training_set_labels.csv\")\n",
    "X.shape, y.shape"
   ]
  },
  {
   "cell_type": "code",
   "execution_count": 3,
   "id": "e1bd8b3a-8517-455f-a0d6-65339b77b39b",
   "metadata": {},
   "outputs": [
    {
     "name": "stdout",
     "output_type": "stream",
     "text": [
      "<class 'pandas.core.frame.DataFrame'>\n",
      "RangeIndex: 59400 entries, 0 to 59399\n",
      "Data columns (total 40 columns):\n",
      " #   Column                 Non-Null Count  Dtype  \n",
      "---  ------                 --------------  -----  \n",
      " 0   id                     59400 non-null  int64  \n",
      " 1   amount_tsh             59400 non-null  float64\n",
      " 2   date_recorded          59400 non-null  object \n",
      " 3   funder                 55765 non-null  object \n",
      " 4   gps_height             59400 non-null  int64  \n",
      " 5   installer              55745 non-null  object \n",
      " 6   longitude              59400 non-null  float64\n",
      " 7   latitude               59400 non-null  float64\n",
      " 8   wpt_name               59400 non-null  object \n",
      " 9   num_private            59400 non-null  int64  \n",
      " 10  basin                  59400 non-null  object \n",
      " 11  subvillage             59029 non-null  object \n",
      " 12  region                 59400 non-null  object \n",
      " 13  region_code            59400 non-null  int64  \n",
      " 14  district_code          59400 non-null  int64  \n",
      " 15  lga                    59400 non-null  object \n",
      " 16  ward                   59400 non-null  object \n",
      " 17  population             59400 non-null  int64  \n",
      " 18  public_meeting         56066 non-null  object \n",
      " 19  recorded_by            59400 non-null  object \n",
      " 20  scheme_management      55523 non-null  object \n",
      " 21  scheme_name            31234 non-null  object \n",
      " 22  permit                 56344 non-null  object \n",
      " 23  construction_year      59400 non-null  int64  \n",
      " 24  extraction_type        59400 non-null  object \n",
      " 25  extraction_type_group  59400 non-null  object \n",
      " 26  extraction_type_class  59400 non-null  object \n",
      " 27  management             59400 non-null  object \n",
      " 28  management_group       59400 non-null  object \n",
      " 29  payment                59400 non-null  object \n",
      " 30  payment_type           59400 non-null  object \n",
      " 31  water_quality          59400 non-null  object \n",
      " 32  quality_group          59400 non-null  object \n",
      " 33  quantity               59400 non-null  object \n",
      " 34  quantity_group         59400 non-null  object \n",
      " 35  source                 59400 non-null  object \n",
      " 36  source_type            59400 non-null  object \n",
      " 37  source_class           59400 non-null  object \n",
      " 38  waterpoint_type        59400 non-null  object \n",
      " 39  waterpoint_type_group  59400 non-null  object \n",
      "dtypes: float64(3), int64(7), object(30)\n",
      "memory usage: 18.1+ MB\n"
     ]
    }
   ],
   "source": [
    "X.info()"
   ]
  },
  {
   "cell_type": "code",
   "execution_count": 4,
   "id": "5aa521d7-a770-41dc-9fb5-a5e84aff2df9",
   "metadata": {},
   "outputs": [
    {
     "data": {
      "text/html": [
       "<div>\n",
       "<style scoped>\n",
       "    .dataframe tbody tr th:only-of-type {\n",
       "        vertical-align: middle;\n",
       "    }\n",
       "\n",
       "    .dataframe tbody tr th {\n",
       "        vertical-align: top;\n",
       "    }\n",
       "\n",
       "    .dataframe thead th {\n",
       "        text-align: right;\n",
       "    }\n",
       "</style>\n",
       "<table border=\"1\" class=\"dataframe\">\n",
       "  <thead>\n",
       "    <tr style=\"text-align: right;\">\n",
       "      <th></th>\n",
       "      <th>id</th>\n",
       "      <th>amount_tsh</th>\n",
       "      <th>date_recorded</th>\n",
       "      <th>funder</th>\n",
       "      <th>gps_height</th>\n",
       "      <th>installer</th>\n",
       "      <th>longitude</th>\n",
       "      <th>latitude</th>\n",
       "      <th>wpt_name</th>\n",
       "      <th>num_private</th>\n",
       "      <th>...</th>\n",
       "      <th>payment_type</th>\n",
       "      <th>water_quality</th>\n",
       "      <th>quality_group</th>\n",
       "      <th>quantity</th>\n",
       "      <th>quantity_group</th>\n",
       "      <th>source</th>\n",
       "      <th>source_type</th>\n",
       "      <th>source_class</th>\n",
       "      <th>waterpoint_type</th>\n",
       "      <th>waterpoint_type_group</th>\n",
       "    </tr>\n",
       "  </thead>\n",
       "  <tbody>\n",
       "    <tr>\n",
       "      <th>0</th>\n",
       "      <td>69572</td>\n",
       "      <td>6000.0</td>\n",
       "      <td>2011-03-14</td>\n",
       "      <td>Roman</td>\n",
       "      <td>1390</td>\n",
       "      <td>Roman</td>\n",
       "      <td>34.938093</td>\n",
       "      <td>-9.856322</td>\n",
       "      <td>none</td>\n",
       "      <td>0</td>\n",
       "      <td>...</td>\n",
       "      <td>annually</td>\n",
       "      <td>soft</td>\n",
       "      <td>good</td>\n",
       "      <td>enough</td>\n",
       "      <td>enough</td>\n",
       "      <td>spring</td>\n",
       "      <td>spring</td>\n",
       "      <td>groundwater</td>\n",
       "      <td>communal standpipe</td>\n",
       "      <td>communal standpipe</td>\n",
       "    </tr>\n",
       "    <tr>\n",
       "      <th>1</th>\n",
       "      <td>8776</td>\n",
       "      <td>0.0</td>\n",
       "      <td>2013-03-06</td>\n",
       "      <td>Grumeti</td>\n",
       "      <td>1399</td>\n",
       "      <td>GRUMETI</td>\n",
       "      <td>34.698766</td>\n",
       "      <td>-2.147466</td>\n",
       "      <td>Zahanati</td>\n",
       "      <td>0</td>\n",
       "      <td>...</td>\n",
       "      <td>never pay</td>\n",
       "      <td>soft</td>\n",
       "      <td>good</td>\n",
       "      <td>insufficient</td>\n",
       "      <td>insufficient</td>\n",
       "      <td>rainwater harvesting</td>\n",
       "      <td>rainwater harvesting</td>\n",
       "      <td>surface</td>\n",
       "      <td>communal standpipe</td>\n",
       "      <td>communal standpipe</td>\n",
       "    </tr>\n",
       "  </tbody>\n",
       "</table>\n",
       "<p>2 rows × 40 columns</p>\n",
       "</div>"
      ],
      "text/plain": [
       "      id  amount_tsh date_recorded   funder  gps_height installer  longitude  \\\n",
       "0  69572      6000.0    2011-03-14    Roman        1390     Roman  34.938093   \n",
       "1   8776         0.0    2013-03-06  Grumeti        1399   GRUMETI  34.698766   \n",
       "\n",
       "   latitude  wpt_name  num_private  ... payment_type water_quality  \\\n",
       "0 -9.856322      none            0  ...     annually          soft   \n",
       "1 -2.147466  Zahanati            0  ...    never pay          soft   \n",
       "\n",
       "  quality_group      quantity  quantity_group                source  \\\n",
       "0          good        enough          enough                spring   \n",
       "1          good  insufficient    insufficient  rainwater harvesting   \n",
       "\n",
       "            source_type  source_class     waterpoint_type  \\\n",
       "0                spring   groundwater  communal standpipe   \n",
       "1  rainwater harvesting       surface  communal standpipe   \n",
       "\n",
       "  waterpoint_type_group  \n",
       "0    communal standpipe  \n",
       "1    communal standpipe  \n",
       "\n",
       "[2 rows x 40 columns]"
      ]
     },
     "execution_count": 4,
     "metadata": {},
     "output_type": "execute_result"
    }
   ],
   "source": [
    "X.head(2)"
   ]
  },
  {
   "cell_type": "code",
   "execution_count": 5,
   "id": "9c9c70c0-0b46-4f5e-941c-8b0ba930b754",
   "metadata": {},
   "outputs": [
    {
     "data": {
      "text/html": [
       "<div>\n",
       "<style scoped>\n",
       "    .dataframe tbody tr th:only-of-type {\n",
       "        vertical-align: middle;\n",
       "    }\n",
       "\n",
       "    .dataframe tbody tr th {\n",
       "        vertical-align: top;\n",
       "    }\n",
       "\n",
       "    .dataframe thead th {\n",
       "        text-align: right;\n",
       "    }\n",
       "</style>\n",
       "<table border=\"1\" class=\"dataframe\">\n",
       "  <thead>\n",
       "    <tr style=\"text-align: right;\">\n",
       "      <th></th>\n",
       "      <th>id</th>\n",
       "      <th>status_group</th>\n",
       "    </tr>\n",
       "  </thead>\n",
       "  <tbody>\n",
       "    <tr>\n",
       "      <th>0</th>\n",
       "      <td>69572</td>\n",
       "      <td>functional</td>\n",
       "    </tr>\n",
       "    <tr>\n",
       "      <th>1</th>\n",
       "      <td>8776</td>\n",
       "      <td>functional</td>\n",
       "    </tr>\n",
       "  </tbody>\n",
       "</table>\n",
       "</div>"
      ],
      "text/plain": [
       "      id status_group\n",
       "0  69572   functional\n",
       "1   8776   functional"
      ]
     },
     "execution_count": 5,
     "metadata": {},
     "output_type": "execute_result"
    }
   ],
   "source": [
    "y.head(2)"
   ]
  },
  {
   "cell_type": "markdown",
   "id": "7c6314c3-72fe-4c11-a93d-1b98a3c51dfd",
   "metadata": {},
   "source": [
    "## 1. Baseline Accuracy (54.3%)"
   ]
  },
  {
   "cell_type": "code",
   "execution_count": 6,
   "id": "135e0ca8-e353-427c-ba50-34ccf103aa2e",
   "metadata": {},
   "outputs": [
    {
     "data": {
      "text/plain": [
       "functional                 0.543081\n",
       "non functional             0.384242\n",
       "functional needs repair    0.072677\n",
       "Name: status_group, dtype: float64"
      ]
     },
     "execution_count": 6,
     "metadata": {},
     "output_type": "execute_result"
    }
   ],
   "source": [
    "y[\"status_group\"].value_counts(normalize = True)"
   ]
  },
  {
   "cell_type": "markdown",
   "id": "231ed524-1084-4726-ad6c-11eb9d034f09",
   "metadata": {
    "tags": []
   },
   "source": [
    "## 2. First Model with All 9 Numeric Features"
   ]
  },
  {
   "cell_type": "code",
   "execution_count": 7,
   "id": "3422ec18-24e1-4843-9d58-85e277c30e00",
   "metadata": {},
   "outputs": [],
   "source": [
    "X_num = X.select_dtypes(include=\"number\")"
   ]
  },
  {
   "cell_type": "code",
   "execution_count": 8,
   "id": "e078427c-f7da-44a2-9c33-fe5269eed30f",
   "metadata": {},
   "outputs": [],
   "source": [
    "X_num = X_num.drop(columns = \"id\")"
   ]
  },
  {
   "cell_type": "code",
   "execution_count": 9,
   "id": "c75ad0d5-d57e-4ce7-bb36-55368ab3ee82",
   "metadata": {},
   "outputs": [
    {
     "data": {
      "text/html": [
       "<div>\n",
       "<style scoped>\n",
       "    .dataframe tbody tr th:only-of-type {\n",
       "        vertical-align: middle;\n",
       "    }\n",
       "\n",
       "    .dataframe tbody tr th {\n",
       "        vertical-align: top;\n",
       "    }\n",
       "\n",
       "    .dataframe thead th {\n",
       "        text-align: right;\n",
       "    }\n",
       "</style>\n",
       "<table border=\"1\" class=\"dataframe\">\n",
       "  <thead>\n",
       "    <tr style=\"text-align: right;\">\n",
       "      <th></th>\n",
       "      <th>amount_tsh</th>\n",
       "      <th>gps_height</th>\n",
       "      <th>longitude</th>\n",
       "      <th>latitude</th>\n",
       "      <th>num_private</th>\n",
       "      <th>region_code</th>\n",
       "      <th>district_code</th>\n",
       "      <th>population</th>\n",
       "      <th>construction_year</th>\n",
       "    </tr>\n",
       "  </thead>\n",
       "  <tbody>\n",
       "    <tr>\n",
       "      <th>0</th>\n",
       "      <td>6000.0</td>\n",
       "      <td>1390</td>\n",
       "      <td>34.938093</td>\n",
       "      <td>-9.856322</td>\n",
       "      <td>0</td>\n",
       "      <td>11</td>\n",
       "      <td>5</td>\n",
       "      <td>109</td>\n",
       "      <td>1999</td>\n",
       "    </tr>\n",
       "    <tr>\n",
       "      <th>1</th>\n",
       "      <td>0.0</td>\n",
       "      <td>1399</td>\n",
       "      <td>34.698766</td>\n",
       "      <td>-2.147466</td>\n",
       "      <td>0</td>\n",
       "      <td>20</td>\n",
       "      <td>2</td>\n",
       "      <td>280</td>\n",
       "      <td>2010</td>\n",
       "    </tr>\n",
       "    <tr>\n",
       "      <th>2</th>\n",
       "      <td>25.0</td>\n",
       "      <td>686</td>\n",
       "      <td>37.460664</td>\n",
       "      <td>-3.821329</td>\n",
       "      <td>0</td>\n",
       "      <td>21</td>\n",
       "      <td>4</td>\n",
       "      <td>250</td>\n",
       "      <td>2009</td>\n",
       "    </tr>\n",
       "  </tbody>\n",
       "</table>\n",
       "</div>"
      ],
      "text/plain": [
       "   amount_tsh  gps_height  longitude  latitude  num_private  region_code  \\\n",
       "0      6000.0        1390  34.938093 -9.856322            0           11   \n",
       "1         0.0        1399  34.698766 -2.147466            0           20   \n",
       "2        25.0         686  37.460664 -3.821329            0           21   \n",
       "\n",
       "   district_code  population  construction_year  \n",
       "0              5         109               1999  \n",
       "1              2         280               2010  \n",
       "2              4         250               2009  "
      ]
     },
     "execution_count": 9,
     "metadata": {},
     "output_type": "execute_result"
    }
   ],
   "source": [
    "X_num.head(3)"
   ]
  },
  {
   "cell_type": "code",
   "execution_count": 10,
   "id": "eac7dd3b-fd5e-4e99-b8cf-7e00ca1d29b4",
   "metadata": {},
   "outputs": [],
   "source": [
    "y = y[\"status_group\"]"
   ]
  },
  {
   "cell_type": "code",
   "execution_count": 11,
   "id": "6717c7a7-f0f1-45bb-b615-a68bcdb9fadc",
   "metadata": {},
   "outputs": [],
   "source": [
    "X_train, X_test, y_train, y_test = train_test_split(X_num, y, random_state=42, stratify=y)"
   ]
  },
  {
   "cell_type": "code",
   "execution_count": 12,
   "id": "192871b2-5f06-479d-8126-cbfc5f74822e",
   "metadata": {},
   "outputs": [
    {
     "data": {
      "text/plain": [
       "0.5582491582491582"
      ]
     },
     "execution_count": 12,
     "metadata": {},
     "output_type": "execute_result"
    }
   ],
   "source": [
    "ss = StandardScaler()\n",
    "logreg = LogisticRegression(max_iter=10_000)\n",
    "\n",
    "pipe1 = Pipeline([(\"sc\", ss), (\"clf\", logreg)])\n",
    "\n",
    "pipe1.fit(X_train, y_train)\n",
    "pipe1.score(X_test, y_test)"
   ]
  },
  {
   "cell_type": "code",
   "execution_count": 13,
   "id": "5a1f538b-3ead-43b2-94cb-6c5e84145f16",
   "metadata": {},
   "outputs": [
    {
     "data": {
      "image/png": "[encoded data removed]",
      "text/plain": [
       "<Figure size 432x288 with 2 Axes>"
      ]
     },
     "metadata": {
      "needs_background": "light"
     },
     "output_type": "display_data"
    }
   ],
   "source": [
    "ConfusionMatrixDisplay.from_estimator(pipe1, X_test, y_test, cmap =\"Blues\", display_labels=[\"fxnal\", \"repair\", \"non_fxnal\"]);"
   ]
  },
  {
   "cell_type": "markdown",
   "id": "114797ce-ad7a-475e-bfd2-74589274bb76",
   "metadata": {},
   "source": [
    "> This model is very much the same as the null model which predicts all pumps functional"
   ]
  },
  {
   "cell_type": "markdown",
   "id": "56f92abb-12bb-4bf3-80a2-dc02220b85a3",
   "metadata": {},
   "source": [
    "## 3. Examine Categorical Features (30 total)"
   ]
  },
  {
   "cell_type": "markdown",
   "id": "90bfdd03-6cf5-4598-85ad-c92eda58c736",
   "metadata": {
    "tags": []
   },
   "source": [
    "### 3.1. date_recorded"
   ]
  },
  {
   "cell_type": "code",
   "execution_count": 14,
   "id": "98e6b522-7fa3-4433-acd7-034113455696",
   "metadata": {},
   "outputs": [
    {
     "data": {
      "text/plain": [
       "2011-03-15    572\n",
       "2011-03-17    558\n",
       "2013-02-03    546\n",
       "2011-03-14    520\n",
       "2011-03-16    513\n",
       "             ... \n",
       "2011-09-11      1\n",
       "2011-08-31      1\n",
       "2011-09-21      1\n",
       "2011-08-30      1\n",
       "2013-12-01      1\n",
       "Name: date_recorded, Length: 356, dtype: int64"
      ]
     },
     "execution_count": 14,
     "metadata": {},
     "output_type": "execute_result"
    }
   ],
   "source": [
    "X[\"date_recorded\"].value_counts()"
   ]
  },
  {
   "cell_type": "markdown",
   "id": "70ccf849-68de-49e5-a960-e6f48c2c6a73",
   "metadata": {},
   "source": [
    "> This columns should be converted to datetime data type\n",
    ">\n",
    "> Group them by month maybe, to reduce the number of values"
   ]
  },
  {
   "cell_type": "markdown",
   "id": "5d619731-8660-45d1-bb0d-601bc9f65031",
   "metadata": {
    "tags": []
   },
   "source": [
    "### 3.2. funder"
   ]
  },
  {
   "cell_type": "code",
   "execution_count": 15,
   "id": "8ecefaec-04be-4fef-a6af-c49eed7cae45",
   "metadata": {},
   "outputs": [
    {
     "data": {
      "text/plain": [
       "Government Of Tanzania    9084\n",
       "Danida                    3114\n",
       "Hesawa                    2202\n",
       "Rwssp                     1374\n",
       "World Bank                1349\n",
       "                          ... \n",
       "Rarymond Ekura               1\n",
       "Justine Marwa                1\n",
       "Municipal Council            1\n",
       "Afdp                         1\n",
       "Samlo                        1\n",
       "Name: funder, Length: 1897, dtype: int64"
      ]
     },
     "execution_count": 15,
     "metadata": {},
     "output_type": "execute_result"
    }
   ],
   "source": [
    "X[\"funder\"].value_counts()  #many"
   ]
  },
  {
   "cell_type": "markdown",
   "id": "10ef7912-ac07-4f0d-8a86-e95961feee7f",
   "metadata": {
    "tags": []
   },
   "source": [
    "### 3.3. installer"
   ]
  },
  {
   "cell_type": "code",
   "execution_count": 16,
   "id": "9734e01f-f0ce-4610-918d-69cc20a3e7df",
   "metadata": {},
   "outputs": [
    {
     "data": {
      "text/plain": [
       "DWE                17402\n",
       "Government          1825\n",
       "RWE                 1206\n",
       "Commu               1060\n",
       "DANIDA              1050\n",
       "                   ...  \n",
       "Wizara  ya maji        1\n",
       "TWESS                  1\n",
       "Nasan workers          1\n",
       "R                      1\n",
       "SELEPTA                1\n",
       "Name: installer, Length: 2145, dtype: int64"
      ]
     },
     "execution_count": 16,
     "metadata": {},
     "output_type": "execute_result"
    }
   ],
   "source": [
    "X[\"installer\"].value_counts()  #many"
   ]
  },
  {
   "cell_type": "markdown",
   "id": "8a0d179c-2b2f-49c6-924d-893c37abb051",
   "metadata": {
    "tags": []
   },
   "source": [
    "### 3.4. wpt_name"
   ]
  },
  {
   "cell_type": "code",
   "execution_count": 17,
   "id": "9e0794cf-3f56-463e-90cf-6325c8826db1",
   "metadata": {},
   "outputs": [
    {
     "data": {
      "text/plain": [
       "none                       3563\n",
       "Shuleni                    1748\n",
       "Zahanati                    830\n",
       "Msikitini                   535\n",
       "Kanisani                    323\n",
       "                           ... \n",
       "Kwa Medadi                    1\n",
       "Kwa Kubembeni                 1\n",
       "Shule Ya Msingi Milanzi       1\n",
       "Funua                         1\n",
       "Kwa Mzee Lugawa               1\n",
       "Name: wpt_name, Length: 37400, dtype: int64"
      ]
     },
     "execution_count": 17,
     "metadata": {},
     "output_type": "execute_result"
    }
   ],
   "source": [
    "X[\"wpt_name\"].value_counts()  #too many"
   ]
  },
  {
   "cell_type": "markdown",
   "id": "1b9bd486-745e-49d8-9da7-2054ccf8c7cf",
   "metadata": {
    "tags": []
   },
   "source": [
    "### 3.5. basin, subvillage, region"
   ]
  },
  {
   "cell_type": "code",
   "execution_count": 18,
   "id": "3e14cf19-74a2-424f-a469-e2dad18d1e66",
   "metadata": {},
   "outputs": [
    {
     "data": {
      "text/plain": [
       "Lake Victoria              10248\n",
       "Pangani                     8940\n",
       "Rufiji                      7976\n",
       "Internal                    7785\n",
       "Lake Tanganyika             6432\n",
       "Wami / Ruvu                 5987\n",
       "Lake Nyasa                  5085\n",
       "Ruvuma / Southern Coast     4493\n",
       "Lake Rukwa                  2454\n",
       "Name: basin, dtype: int64"
      ]
     },
     "execution_count": 18,
     "metadata": {},
     "output_type": "execute_result"
    }
   ],
   "source": [
    "X[\"basin\"].value_counts()"
   ]
  },
  {
   "cell_type": "code",
   "execution_count": 19,
   "id": "71c6fb00-d6ba-4366-9b8b-e7212fcd115b",
   "metadata": {},
   "outputs": [
    {
     "data": {
      "text/plain": [
       "Iringa           5294\n",
       "Shinyanga        4982\n",
       "Mbeya            4639\n",
       "Kilimanjaro      4379\n",
       "Morogoro         4006\n",
       "Arusha           3350\n",
       "Kagera           3316\n",
       "Mwanza           3102\n",
       "Kigoma           2816\n",
       "Ruvuma           2640\n",
       "Pwani            2635\n",
       "Tanga            2547\n",
       "Dodoma           2201\n",
       "Singida          2093\n",
       "Mara             1969\n",
       "Tabora           1959\n",
       "Rukwa            1808\n",
       "Mtwara           1730\n",
       "Manyara          1583\n",
       "Lindi            1546\n",
       "Dar es Salaam     805\n",
       "Name: region, dtype: int64"
      ]
     },
     "execution_count": 19,
     "metadata": {},
     "output_type": "execute_result"
    }
   ],
   "source": [
    "X[\"region\"].value_counts()"
   ]
  },
  {
   "cell_type": "code",
   "execution_count": 20,
   "id": "8bdf628b-317a-48e8-be53-205458bfee51",
   "metadata": {},
   "outputs": [
    {
     "data": {
      "text/plain": [
       "Madukani        508\n",
       "Shuleni         506\n",
       "Majengo         502\n",
       "Kati            373\n",
       "Mtakuja         262\n",
       "               ... \n",
       "Kipompo           1\n",
       "Chanyamilima      1\n",
       "Ikalime           1\n",
       "Kemagaka          1\n",
       "Kikatanyemba      1\n",
       "Name: subvillage, Length: 19287, dtype: int64"
      ]
     },
     "execution_count": 20,
     "metadata": {},
     "output_type": "execute_result"
    }
   ],
   "source": [
    "X[\"subvillage\"].value_counts()  #too many"
   ]
  },
  {
   "cell_type": "markdown",
   "id": "3fad1b5e-739c-4ec6-868e-c48da48053a7",
   "metadata": {},
   "source": [
    "> From big to small: basin > region > subvillage\n",
    ">\n",
    "> Probably use region only"
   ]
  },
  {
   "cell_type": "markdown",
   "id": "c9449785-ae6e-41e6-b22d-f0b1539603df",
   "metadata": {
    "tags": []
   },
   "source": [
    "### 3.6. ward, lga"
   ]
  },
  {
   "cell_type": "code",
   "execution_count": 21,
   "id": "f3cb5243-1e93-48bd-a507-9fbf31954d15",
   "metadata": {},
   "outputs": [
    {
     "data": {
      "text/plain": [
       "Igosi              307\n",
       "Imalinyi           252\n",
       "Siha Kati          232\n",
       "Mdandu             231\n",
       "Nduruma            217\n",
       "                  ... \n",
       "Uchindile            1\n",
       "Thawi                1\n",
       "Uwanja wa Ndege      1\n",
       "Izia                 1\n",
       "Kinungu              1\n",
       "Name: ward, Length: 2092, dtype: int64"
      ]
     },
     "execution_count": 21,
     "metadata": {},
     "output_type": "execute_result"
    }
   ],
   "source": [
    "X[\"ward\"].value_counts()  #many"
   ]
  },
  {
   "cell_type": "code",
   "execution_count": 22,
   "id": "3c5e09b1-cc94-43f2-afe9-64b4049c0d3b",
   "metadata": {},
   "outputs": [
    {
     "data": {
      "text/plain": [
       "Njombe          2503\n",
       "Arusha Rural    1252\n",
       "Moshi Rural     1251\n",
       "Bariadi         1177\n",
       "Rungwe          1106\n",
       "                ... \n",
       "Moshi Urban       79\n",
       "Kigoma Urban      71\n",
       "Arusha Urban      63\n",
       "Lindi Urban       21\n",
       "Nyamagana          1\n",
       "Name: lga, Length: 125, dtype: int64"
      ]
     },
     "execution_count": 22,
     "metadata": {},
     "output_type": "execute_result"
    }
   ],
   "source": [
    "X[\"lga\"].value_counts()"
   ]
  },
  {
   "cell_type": "markdown",
   "id": "e0125f02-140f-44a0-b3db-e3cb80f1ed66",
   "metadata": {},
   "source": [
    "> LGA is Local Government Area. Each LGA contains many wards.\n",
    ">\n",
    "> Maybe use LGA only (still alot, 125 of them)"
   ]
  },
  {
   "cell_type": "markdown",
   "id": "e804b62b-1011-473f-a843-983f58f4bf97",
   "metadata": {
    "tags": []
   },
   "source": [
    "### 3.7. public_meeting"
   ]
  },
  {
   "cell_type": "code",
   "execution_count": 23,
   "id": "97b72d50-f560-43cc-a76b-25211aa8e7af",
   "metadata": {},
   "outputs": [
    {
     "data": {
      "text/plain": [
       "True     51011\n",
       "False     5055\n",
       "Name: public_meeting, dtype: int64"
      ]
     },
     "execution_count": 23,
     "metadata": {},
     "output_type": "execute_result"
    }
   ],
   "source": [
    "X[\"public_meeting\"].value_counts()"
   ]
  },
  {
   "cell_type": "markdown",
   "id": "aac8283d-bc67-466f-bd66-e816ef2cf6fe",
   "metadata": {},
   "source": [
    "> Convert to numeric: 1 for True, 0 for False"
   ]
  },
  {
   "cell_type": "markdown",
   "id": "a559c49d-6273-4fe1-80ab-50dcbc979fd0",
   "metadata": {
    "tags": []
   },
   "source": [
    "### 3.8. recorded_by"
   ]
  },
  {
   "cell_type": "code",
   "execution_count": 24,
   "id": "24941b96-5074-430d-908f-078b9dfa929e",
   "metadata": {},
   "outputs": [
    {
     "data": {
      "text/plain": [
       "GeoData Consultants Ltd    59400\n",
       "Name: recorded_by, dtype: int64"
      ]
     },
     "execution_count": 24,
     "metadata": {},
     "output_type": "execute_result"
    }
   ],
   "source": [
    "X[\"recorded_by\"].value_counts()  #only 1 value, not useful"
   ]
  },
  {
   "cell_type": "markdown",
   "id": "697f6d3e-5b18-42c7-b5a2-431d1745fd97",
   "metadata": {
    "tags": []
   },
   "source": [
    "### 3.9. scheme_management, scheme_name"
   ]
  },
  {
   "cell_type": "code",
   "execution_count": 25,
   "id": "1b78900a-8cfd-4f9f-8913-4faf1f4e39f0",
   "metadata": {},
   "outputs": [
    {
     "data": {
      "text/plain": [
       "VWC                 36793\n",
       "WUG                  5206\n",
       "Water authority      3153\n",
       "WUA                  2883\n",
       "Water Board          2748\n",
       "Parastatal           1680\n",
       "Private operator     1063\n",
       "Company              1061\n",
       "Other                 766\n",
       "SWC                    97\n",
       "Trust                  72\n",
       "None                    1\n",
       "Name: scheme_management, dtype: int64"
      ]
     },
     "execution_count": 25,
     "metadata": {},
     "output_type": "execute_result"
    }
   ],
   "source": [
    "X[\"scheme_management\"].value_counts()  #names look similar to management in 3.12"
   ]
  },
  {
   "cell_type": "code",
   "execution_count": 26,
   "id": "53ac0940-a562-4803-9230-5ea61f70c9be",
   "metadata": {},
   "outputs": [
    {
     "data": {
      "text/plain": [
       "K                       682\n",
       "None                    644\n",
       "Borehole                546\n",
       "Chalinze wate           405\n",
       "M                       400\n",
       "                       ... \n",
       "Mradi wa maji Vijini      1\n",
       "Villagers                 1\n",
       "Magundi water supply      1\n",
       "Saadani Chumv             1\n",
       "Mtawanya                  1\n",
       "Name: scheme_name, Length: 2696, dtype: int64"
      ]
     },
     "execution_count": 26,
     "metadata": {},
     "output_type": "execute_result"
    }
   ],
   "source": [
    "X[\"scheme_name\"].value_counts()   #many names"
   ]
  },
  {
   "cell_type": "markdown",
   "id": "dc6ee580-da47-478d-ab11-49cbcef248ba",
   "metadata": {
    "tags": []
   },
   "source": [
    "### 3.10. permit"
   ]
  },
  {
   "cell_type": "code",
   "execution_count": 27,
   "id": "bf60dfd2-0565-45c5-a40c-606c7982e98a",
   "metadata": {},
   "outputs": [
    {
     "data": {
      "text/plain": [
       "True     38852\n",
       "False    17492\n",
       "Name: permit, dtype: int64"
      ]
     },
     "execution_count": 27,
     "metadata": {},
     "output_type": "execute_result"
    }
   ],
   "source": [
    "X[\"permit\"].value_counts()"
   ]
  },
  {
   "cell_type": "markdown",
   "id": "a7041fe6-3f0b-43dc-8f5e-8fff52c1b93f",
   "metadata": {},
   "source": [
    "> Convert to numeric: 1 for True, 0 for False"
   ]
  },
  {
   "cell_type": "markdown",
   "id": "e25d9ee2-fd84-4ad1-b4fc-33339418927b",
   "metadata": {},
   "source": [
    "### 3.11. extraction_type, extraction_type_group, extraction_type_class"
   ]
  },
  {
   "cell_type": "code",
   "execution_count": 28,
   "id": "a719c29b-972e-4051-824c-60b7c3ba04e3",
   "metadata": {},
   "outputs": [
    {
     "data": {
      "text/plain": [
       "gravity                      26780\n",
       "nira/tanira                   8154\n",
       "other                         6430\n",
       "submersible                   4764\n",
       "swn 80                        3670\n",
       "mono                          2865\n",
       "india mark ii                 2400\n",
       "afridev                       1770\n",
       "ksb                           1415\n",
       "other - rope pump              451\n",
       "other - swn 81                 229\n",
       "windmill                       117\n",
       "india mark iii                  98\n",
       "cemo                            90\n",
       "other - play pump               85\n",
       "walimi                          48\n",
       "climax                          32\n",
       "other - mkulima/shinyanga        2\n",
       "Name: extraction_type, dtype: int64"
      ]
     },
     "execution_count": 28,
     "metadata": {},
     "output_type": "execute_result"
    }
   ],
   "source": [
    "X[\"extraction_type\"].value_counts()"
   ]
  },
  {
   "cell_type": "code",
   "execution_count": 29,
   "id": "a3457265-cec9-4077-997f-59e550039307",
   "metadata": {},
   "outputs": [
    {
     "data": {
      "text/plain": [
       "gravity            26780\n",
       "nira/tanira         8154\n",
       "other               6430\n",
       "submersible         6179\n",
       "swn 80              3670\n",
       "mono                2865\n",
       "india mark ii       2400\n",
       "afridev             1770\n",
       "rope pump            451\n",
       "other handpump       364\n",
       "other motorpump      122\n",
       "wind-powered         117\n",
       "india mark iii        98\n",
       "Name: extraction_type_group, dtype: int64"
      ]
     },
     "execution_count": 29,
     "metadata": {},
     "output_type": "execute_result"
    }
   ],
   "source": [
    "X[\"extraction_type_group\"].value_counts()"
   ]
  },
  {
   "cell_type": "code",
   "execution_count": 30,
   "id": "3f8f780c-fa8d-4e6a-b997-84fed7754c08",
   "metadata": {},
   "outputs": [
    {
     "data": {
      "text/plain": [
       "gravity         26780\n",
       "handpump        16456\n",
       "other            6430\n",
       "submersible      6179\n",
       "motorpump        2987\n",
       "rope pump         451\n",
       "wind-powered      117\n",
       "Name: extraction_type_class, dtype: int64"
      ]
     },
     "execution_count": 30,
     "metadata": {},
     "output_type": "execute_result"
    }
   ],
   "source": [
    "X[\"extraction_type_class\"].value_counts()"
   ]
  },
  {
   "cell_type": "markdown",
   "id": "084f237c-38b6-4155-a1bf-fbedc5d0910a",
   "metadata": {},
   "source": [
    "> extraction_type_group is aggregated from extraction_type\n",
    ">\n",
    "> extraction_type_class is aggreated from extraction_type_group\n",
    ">\n",
    "> Rank from most to least compact: extraction_type_class > extraction_type_group > extraction_type\n",
    ">\n",
    "> Use extraction_type only"
   ]
  },
  {
   "cell_type": "markdown",
   "id": "4a9dee5e-2287-453f-8dc9-f90cf13e1f6c",
   "metadata": {
    "tags": []
   },
   "source": [
    "### 3.12. management, management_group"
   ]
  },
  {
   "cell_type": "code",
   "execution_count": 31,
   "id": "a4765bf1-ec55-4efe-a087-e662b9d98ebd",
   "metadata": {},
   "outputs": [
    {
     "data": {
      "text/plain": [
       "vwc                 40507\n",
       "wug                  6515\n",
       "water board          2933\n",
       "wua                  2535\n",
       "private operator     1971\n",
       "parastatal           1768\n",
       "water authority       904\n",
       "other                 844\n",
       "company               685\n",
       "unknown               561\n",
       "other - school         99\n",
       "trust                  78\n",
       "Name: management, dtype: int64"
      ]
     },
     "execution_count": 31,
     "metadata": {},
     "output_type": "execute_result"
    }
   ],
   "source": [
    "X[\"management\"].value_counts()"
   ]
  },
  {
   "cell_type": "code",
   "execution_count": 32,
   "id": "712a0b75-a79a-48a1-97a4-86ab222192d4",
   "metadata": {},
   "outputs": [
    {
     "data": {
      "text/plain": [
       "user-group    52490\n",
       "commercial     3638\n",
       "parastatal     1768\n",
       "other           943\n",
       "unknown         561\n",
       "Name: management_group, dtype: int64"
      ]
     },
     "execution_count": 32,
     "metadata": {},
     "output_type": "execute_result"
    }
   ],
   "source": [
    "X[\"management_group\"].value_counts()"
   ]
  },
  {
   "cell_type": "markdown",
   "id": "3f3f98ea-83c2-47d0-9ac3-4f1344d1c8b3",
   "metadata": {},
   "source": [
    "> Keep management only"
   ]
  },
  {
   "cell_type": "markdown",
   "id": "ee838d4b-9fa1-4177-8c7e-1f8e483d153a",
   "metadata": {
    "tags": []
   },
   "source": [
    "### 3.13. payment, payment_type (identical)"
   ]
  },
  {
   "cell_type": "code",
   "execution_count": 33,
   "id": "ace49a34-064f-4766-a1c6-9bcde06c552b",
   "metadata": {},
   "outputs": [
    {
     "data": {
      "text/plain": [
       "never pay                25348\n",
       "pay per bucket            8985\n",
       "pay monthly               8300\n",
       "unknown                   8157\n",
       "pay when scheme fails     3914\n",
       "pay annually              3642\n",
       "other                     1054\n",
       "Name: payment, dtype: int64"
      ]
     },
     "execution_count": 33,
     "metadata": {},
     "output_type": "execute_result"
    }
   ],
   "source": [
    "X[\"payment\"].value_counts()"
   ]
  },
  {
   "cell_type": "code",
   "execution_count": 34,
   "id": "9b816b5c-2f40-4fef-a1c4-b8bfb94c09ef",
   "metadata": {},
   "outputs": [
    {
     "data": {
      "text/plain": [
       "never pay     25348\n",
       "per bucket     8985\n",
       "monthly        8300\n",
       "unknown        8157\n",
       "on failure     3914\n",
       "annually       3642\n",
       "other          1054\n",
       "Name: payment_type, dtype: int64"
      ]
     },
     "execution_count": 34,
     "metadata": {},
     "output_type": "execute_result"
    }
   ],
   "source": [
    "X[\"payment_type\"].value_counts()"
   ]
  },
  {
   "cell_type": "markdown",
   "id": "17fdbebc-cbf3-4fdc-8bcc-326fd893616c",
   "metadata": {},
   "source": [
    "> The 2 are identical, keep 1 only"
   ]
  },
  {
   "cell_type": "markdown",
   "id": "c293c394-fa8e-4b09-ba48-96eeab497678",
   "metadata": {},
   "source": [
    "### 3.14. water_quality, quality_group"
   ]
  },
  {
   "cell_type": "code",
   "execution_count": 35,
   "id": "b7e1b2f5-6f5e-4234-9455-84e16e69f7a8",
   "metadata": {},
   "outputs": [
    {
     "data": {
      "text/plain": [
       "soft                  50818\n",
       "salty                  4856\n",
       "unknown                1876\n",
       "milky                   804\n",
       "coloured                490\n",
       "salty abandoned         339\n",
       "fluoride                200\n",
       "fluoride abandoned       17\n",
       "Name: water_quality, dtype: int64"
      ]
     },
     "execution_count": 35,
     "metadata": {},
     "output_type": "execute_result"
    }
   ],
   "source": [
    "X[\"water_quality\"].value_counts()"
   ]
  },
  {
   "cell_type": "code",
   "execution_count": 36,
   "id": "17ae5afd-70d7-4719-8d59-f7ee99530686",
   "metadata": {},
   "outputs": [
    {
     "data": {
      "text/plain": [
       "good        50818\n",
       "salty        5195\n",
       "unknown      1876\n",
       "milky         804\n",
       "colored       490\n",
       "fluoride      217\n",
       "Name: quality_group, dtype: int64"
      ]
     },
     "execution_count": 36,
     "metadata": {},
     "output_type": "execute_result"
    }
   ],
   "source": [
    "X[\"quality_group\"].value_counts()"
   ]
  },
  {
   "cell_type": "markdown",
   "id": "c42cc10d-2a91-4f04-a6cc-d28978e5d7ac",
   "metadata": {},
   "source": [
    "> Keep water_quality only, it has a bit more details"
   ]
  },
  {
   "cell_type": "markdown",
   "id": "1b82d082-a857-4060-8398-a6938b3c70a2",
   "metadata": {
    "tags": []
   },
   "source": [
    "### 3.15. quantity, quantity_group  (identical)"
   ]
  },
  {
   "cell_type": "code",
   "execution_count": 37,
   "id": "f7553519-3ab9-47f1-a760-d7434cef3b3d",
   "metadata": {},
   "outputs": [
    {
     "data": {
      "text/plain": [
       "enough          33186\n",
       "insufficient    15129\n",
       "dry              6246\n",
       "seasonal         4050\n",
       "unknown           789\n",
       "Name: quantity, dtype: int64"
      ]
     },
     "execution_count": 37,
     "metadata": {},
     "output_type": "execute_result"
    }
   ],
   "source": [
    "X[\"quantity\"].value_counts()"
   ]
  },
  {
   "cell_type": "code",
   "execution_count": 38,
   "id": "f340e61a-fbc1-4a6f-8b5d-5ea7827dd060",
   "metadata": {},
   "outputs": [
    {
     "data": {
      "text/plain": [
       "enough          33186\n",
       "insufficient    15129\n",
       "dry              6246\n",
       "seasonal         4050\n",
       "unknown           789\n",
       "Name: quantity_group, dtype: int64"
      ]
     },
     "execution_count": 38,
     "metadata": {},
     "output_type": "execute_result"
    }
   ],
   "source": [
    "X[\"quantity_group\"].value_counts()"
   ]
  },
  {
   "cell_type": "markdown",
   "id": "a6512352-814a-430b-82e3-e9df42caecdd",
   "metadata": {},
   "source": [
    "> The 2 are identical, keep 1 only"
   ]
  },
  {
   "cell_type": "markdown",
   "id": "2febebb1-5fae-419d-be9d-53031b0c30c1",
   "metadata": {},
   "source": [
    "### 3.16. source, source_type, source_class"
   ]
  },
  {
   "cell_type": "code",
   "execution_count": 39,
   "id": "feddae5f-720a-476c-87c3-c3d6b268aee9",
   "metadata": {},
   "outputs": [
    {
     "data": {
      "text/plain": [
       "spring                  17021\n",
       "shallow well            16824\n",
       "machine dbh             11075\n",
       "river                    9612\n",
       "rainwater harvesting     2295\n",
       "hand dtw                  874\n",
       "lake                      765\n",
       "dam                       656\n",
       "other                     212\n",
       "unknown                    66\n",
       "Name: source, dtype: int64"
      ]
     },
     "execution_count": 39,
     "metadata": {},
     "output_type": "execute_result"
    }
   ],
   "source": [
    "X[\"source\"].value_counts()"
   ]
  },
  {
   "cell_type": "code",
   "execution_count": 40,
   "id": "f1df8e0d-d90b-4dde-9283-ae4c9d308c3a",
   "metadata": {},
   "outputs": [
    {
     "data": {
      "text/plain": [
       "spring                  17021\n",
       "shallow well            16824\n",
       "borehole                11949\n",
       "river/lake              10377\n",
       "rainwater harvesting     2295\n",
       "dam                       656\n",
       "other                     278\n",
       "Name: source_type, dtype: int64"
      ]
     },
     "execution_count": 40,
     "metadata": {},
     "output_type": "execute_result"
    }
   ],
   "source": [
    "X[\"source_type\"].value_counts()"
   ]
  },
  {
   "cell_type": "code",
   "execution_count": 41,
   "id": "450b8a88-d7be-42c5-ad59-1933dede65a6",
   "metadata": {},
   "outputs": [
    {
     "data": {
      "text/plain": [
       "groundwater    45794\n",
       "surface        13328\n",
       "unknown          278\n",
       "Name: source_class, dtype: int64"
      ]
     },
     "execution_count": 41,
     "metadata": {},
     "output_type": "execute_result"
    }
   ],
   "source": [
    "X[\"source_class\"].value_counts()"
   ]
  },
  {
   "cell_type": "markdown",
   "id": "371e287a-7c17-434e-8b7f-f19864e1798f",
   "metadata": {},
   "source": [
    "> Same infomation, different level of detail, keep \"source\" only"
   ]
  },
  {
   "cell_type": "markdown",
   "id": "11d2410c-dc6d-4bfc-8503-21d6a42bd6ae",
   "metadata": {},
   "source": [
    "### 3.17. waterpoint_type, waterpoint_type_group"
   ]
  },
  {
   "cell_type": "code",
   "execution_count": 42,
   "id": "c9d492b5-ab14-44eb-a876-9bf127988151",
   "metadata": {},
   "outputs": [
    {
     "data": {
      "text/plain": [
       "communal standpipe             28522\n",
       "hand pump                      17488\n",
       "other                           6380\n",
       "communal standpipe multiple     6103\n",
       "improved spring                  784\n",
       "cattle trough                    116\n",
       "dam                                7\n",
       "Name: waterpoint_type, dtype: int64"
      ]
     },
     "execution_count": 42,
     "metadata": {},
     "output_type": "execute_result"
    }
   ],
   "source": [
    "X[\"waterpoint_type\"].value_counts()"
   ]
  },
  {
   "cell_type": "code",
   "execution_count": 43,
   "id": "269428cc-0927-464b-9e0a-d2fd4f4104c2",
   "metadata": {},
   "outputs": [
    {
     "data": {
      "text/plain": [
       "communal standpipe    34625\n",
       "hand pump             17488\n",
       "other                  6380\n",
       "improved spring         784\n",
       "cattle trough           116\n",
       "dam                       7\n",
       "Name: waterpoint_type_group, dtype: int64"
      ]
     },
     "execution_count": 43,
     "metadata": {},
     "output_type": "execute_result"
    }
   ],
   "source": [
    "X[\"waterpoint_type_group\"].value_counts()"
   ]
  },
  {
   "cell_type": "markdown",
   "id": "21bdccdf-7a12-4847-b8f5-2b5cb66b25d2",
   "metadata": {},
   "source": [
    "> Keep waterpoint_type only, it has a bit more details"
   ]
  },
  {
   "cell_type": "markdown",
   "id": "501cd524-e4df-49df-bc43-99d178ce5489",
   "metadata": {},
   "source": [
    "## 4. Modeling"
   ]
  },
  {
   "cell_type": "code",
   "execution_count": 44,
   "id": "ed05fae5-503e-46c0-a843-0a559083dfc6",
   "metadata": {},
   "outputs": [],
   "source": [
    "X[\"datetime_recorded\"] = pd.to_datetime(X[\"date_recorded\"])\n",
    "#356 different values"
   ]
  },
  {
   "cell_type": "code",
   "execution_count": 45,
   "id": "535d6578-87cb-4a58-bf26-88cfd8d13e34",
   "metadata": {},
   "outputs": [],
   "source": [
    "X[\"year_month_recorded\"] = X[\"datetime_recorded\"].dt.to_period('M').dt.strftime(\"%Y-%m\")\n",
    "#keep only year and month\n",
    "#reduce to 38 different values"
   ]
  },
  {
   "cell_type": "code",
   "execution_count": 46,
   "id": "3c8646b5-0554-4b85-96d0-309ba16e24fb",
   "metadata": {},
   "outputs": [],
   "source": [
    "#w/out date_recorded, less features, run faster, acc = 74.8%\n",
    "cat_feats = [\"region\",\n",
    "             \"lga\",\n",
    "             \"public_meeting\",\n",
    "             \"scheme_management\",\n",
    "             \"permit\",\n",
    "             \"extraction_type\",\n",
    "             \"management\",\n",
    "             \"payment_type\",\n",
    "             \"water_quality\",\n",
    "             \"quantity_group\",\n",
    "             \"source\",\n",
    "             \"waterpoint_type\",\n",
    "             \"date_recorded\"]"
   ]
  },
  {
   "cell_type": "code",
   "execution_count": 47,
   "id": "d33a6e67-c1d4-4b4d-b494-53cd218beeb3",
   "metadata": {},
   "outputs": [
    {
     "data": {
      "text/plain": [
       "region                  0\n",
       "lga                     0\n",
       "public_meeting       3334\n",
       "scheme_management    3877\n",
       "permit               3056\n",
       "extraction_type         0\n",
       "management              0\n",
       "payment_type            0\n",
       "water_quality           0\n",
       "quantity_group          0\n",
       "source                  0\n",
       "waterpoint_type         0\n",
       "date_recorded           0\n",
       "dtype: int64"
      ]
     },
     "execution_count": 47,
     "metadata": {},
     "output_type": "execute_result"
    }
   ],
   "source": [
    "X_cat = X[cat_feats]\n",
    "X_cat.isna().sum()"
   ]
  },
  {
   "cell_type": "code",
   "execution_count": 48,
   "id": "7d645010-7fca-4636-8f41-df8c50577951",
   "metadata": {},
   "outputs": [
    {
     "data": {
      "text/plain": [
       "(59400, 13)"
      ]
     },
     "execution_count": 48,
     "metadata": {},
     "output_type": "execute_result"
    }
   ],
   "source": [
    "X_cat.shape"
   ]
  },
  {
   "cell_type": "code",
   "execution_count": 49,
   "id": "41462630-edc2-4689-bfab-56dadb9e7168",
   "metadata": {},
   "outputs": [],
   "source": [
    "X_train, X_test, y_train, y_test = train_test_split(X_cat, y, random_state=42, stratify=y)"
   ]
  },
  {
   "cell_type": "markdown",
   "id": "22828664-8635-4eb1-98f9-36dbe745b219",
   "metadata": {},
   "source": [
    "### 4.1. Logistic Regression"
   ]
  },
  {
   "cell_type": "markdown",
   "id": "53ef03c0-b9b1-48d7-9bb4-19aec190a92a",
   "metadata": {},
   "source": [
    "#### 4.1.1. SimpleImputer"
   ]
  },
  {
   "cell_type": "code",
   "execution_count": 50,
   "id": "377cb6c4-c169-4f45-b15f-35bfacbef2a5",
   "metadata": {},
   "outputs": [
    {
     "data": {
      "text/plain": [
       "(0.756, 0.753)"
      ]
     },
     "execution_count": 50,
     "metadata": {},
     "output_type": "execute_result"
    }
   ],
   "source": [
    "ohe = OneHotEncoder(drop = \"if_binary\", sparse = False, handle_unknown=\"ignore\")\n",
    "mct = make_column_transformer((ohe, cat_feats), remainder=\"passthrough\", verbose_feature_names_out=False)\n",
    "\n",
    "si = SimpleImputer(strategy=\"most_frequent\")\n",
    "\n",
    "ss = StandardScaler()\n",
    "logreg = LogisticRegression(max_iter=10_000)\n",
    "\n",
    "pipe1 = Pipeline([(\"ohe\", mct), (\"impu\", si), (\"sc\", ss), (\"clf\", logreg)])\n",
    "\n",
    "pipe1.fit(X_train, y_train)\n",
    "pipe1.score(X_train, y_train).round(3), pipe1.score(X_test, y_test).round(3)"
   ]
  },
  {
   "cell_type": "code",
   "execution_count": 51,
   "id": "12d57bbf-b4cc-47f3-b89c-58c596efa276",
   "metadata": {},
   "outputs": [
    {
     "data": {
      "image/png": "[encoded data removed]",
      "text/plain": [
       "<Figure size 432x288 with 2 Axes>"
      ]
     },
     "metadata": {
      "needs_background": "light"
     },
     "output_type": "display_data"
    }
   ],
   "source": [
    "ConfusionMatrixDisplay.from_estimator(pipe1,\n",
    "                                      X_train,\n",
    "                                      y_train,\n",
    "                                      cmap =\"Blues\",\n",
    "                                      display_labels=[\"fxnal\", \"repair\", \"non_fxnal\"],\n",
    "                                      normalize=\"true\");"
   ]
  },
  {
   "cell_type": "code",
   "execution_count": 52,
   "id": "827ab50f-6c7a-40e6-9b9b-ce307d9100f4",
   "metadata": {},
   "outputs": [
    {
     "data": {
      "image/png": "[encoded data removed]",
      "text/plain": [
       "<Figure size 432x288 with 2 Axes>"
      ]
     },
     "metadata": {
      "needs_background": "light"
     },
     "output_type": "display_data"
    }
   ],
   "source": [
    "ConfusionMatrixDisplay.from_estimator(pipe1,\n",
    "                                      X_test,\n",
    "                                      y_test,\n",
    "                                      cmap =\"Blues\",\n",
    "                                      display_labels=[\"fxnal\", \"repair\", \"non_fxnal\"],\n",
    "                                      normalize=\"true\");"
   ]
  },
  {
   "cell_type": "markdown",
   "id": "986414f6-a209-4d7e-bd01-f764d6206f33",
   "metadata": {},
   "source": [
    "> Poor performance on the \"repair\" class\n",
    ">\n",
    "> Maybe use techniques for imbalanced data"
   ]
  },
  {
   "cell_type": "markdown",
   "id": "e5ae8e25-1d07-4412-b6ff-2dd187902267",
   "metadata": {},
   "source": [
    "#### 4.1.2. KNNImputer (Same Performance as SimpleImputer)"
   ]
  },
  {
   "cell_type": "code",
   "execution_count": 53,
   "id": "8d59194d-c785-4c3c-8369-723406e4c4e0",
   "metadata": {},
   "outputs": [
    {
     "data": {
      "text/plain": [
       "(0.756, 0.753)"
      ]
     },
     "execution_count": 53,
     "metadata": {},
     "output_type": "execute_result"
    }
   ],
   "source": [
    "ohe = OneHotEncoder(drop = \"if_binary\", sparse = False, handle_unknown=\"ignore\")\n",
    "mct = make_column_transformer((ohe, cat_feats), remainder=\"passthrough\", verbose_feature_names_out=False)\n",
    "\n",
    "knn_imputer = KNNImputer(n_neighbors=15)\n",
    "\n",
    "ss = StandardScaler()\n",
    "logreg = LogisticRegression(max_iter=10_000)\n",
    "\n",
    "pipe2 = Pipeline([(\"ohe\", mct), (\"impu\", knn_imputer), (\"sc\", ss), (\"clf\", logreg)])\n",
    "\n",
    "pipe2.fit(X_train, y_train)\n",
    "pipe2.score(X_train, y_train).round(3), pipe2.score(X_test, y_test).round(3)"
   ]
  },
  {
   "cell_type": "code",
   "execution_count": 54,
   "id": "0909dda4-b0a3-438e-b11d-0b69b8c6a924",
   "metadata": {},
   "outputs": [
    {
     "data": {
      "image/png": "[encoded data removed]",
      "text/plain": [
       "<Figure size 432x288 with 2 Axes>"
      ]
     },
     "metadata": {
      "needs_background": "light"
     },
     "output_type": "display_data"
    }
   ],
   "source": [
    "ConfusionMatrixDisplay.from_estimator(pipe2,\n",
    "                                      X_train,\n",
    "                                      y_train,\n",
    "                                      cmap =\"Blues\",\n",
    "                                      display_labels=[\"fxnal\", \"repair\", \"non_fxnal\"],\n",
    "                                      normalize=\"true\");"
   ]
  },
  {
   "cell_type": "code",
   "execution_count": 55,
   "id": "14dede94-0065-49ad-92e4-62a69f940b1d",
   "metadata": {},
   "outputs": [
    {
     "data": {
      "image/png": "[encoded data removed]",
      "text/plain": [
       "<Figure size 432x288 with 2 Axes>"
      ]
     },
     "metadata": {
      "needs_background": "light"
     },
     "output_type": "display_data"
    }
   ],
   "source": [
    "ConfusionMatrixDisplay.from_estimator(pipe2,\n",
    "                                      X_test,\n",
    "                                      y_test,\n",
    "                                      cmap =\"Blues\",\n",
    "                                      display_labels=[\"fxnal\", \"repair\", \"non_fxnal\"],\n",
    "                                      normalize=\"true\");"
   ]
  },
  {
   "cell_type": "markdown",
   "id": "b7a87751-28fe-48ba-9e3b-8a1fd0d89100",
   "metadata": {},
   "source": [
    "#### 4.1.3. Include 9 Numeric Features (No Difference)"
   ]
  },
  {
   "cell_type": "code",
   "execution_count": 56,
   "id": "7db78ea6-eac9-4576-89ed-4b4e152a49f7",
   "metadata": {},
   "outputs": [],
   "source": [
    "num_feats = list(X.select_dtypes(include = \"number\").drop(columns = [\"id\"]).columns)\n",
    "#list of numeric features"
   ]
  },
  {
   "cell_type": "code",
   "execution_count": 57,
   "id": "374220ab-b07f-4d2b-9626-dcb2ab9b342e",
   "metadata": {},
   "outputs": [],
   "source": [
    "X_num_cat = X[num_feats + cat_feats]"
   ]
  },
  {
   "cell_type": "code",
   "execution_count": 58,
   "id": "29397406-a622-4814-9dde-737255f65c8c",
   "metadata": {},
   "outputs": [
    {
     "data": {
      "text/plain": [
       "(59400, 22)"
      ]
     },
     "execution_count": 58,
     "metadata": {},
     "output_type": "execute_result"
    }
   ],
   "source": [
    "X_num_cat.shape"
   ]
  },
  {
   "cell_type": "code",
   "execution_count": 59,
   "id": "c4816a21-512a-4d7f-a01a-ba110dcd8c49",
   "metadata": {},
   "outputs": [],
   "source": [
    "X_train, X_test, y_train, y_test = train_test_split(X_cat, y, random_state=42, stratify=y)"
   ]
  },
  {
   "cell_type": "code",
   "execution_count": 60,
   "id": "33b878f4-35e7-4912-bdc7-737c0b795437",
   "metadata": {},
   "outputs": [
    {
     "data": {
      "text/plain": [
       "(0.756, 0.753)"
      ]
     },
     "execution_count": 60,
     "metadata": {},
     "output_type": "execute_result"
    }
   ],
   "source": [
    "ohe = OneHotEncoder(drop = \"if_binary\", sparse = False, handle_unknown=\"ignore\")\n",
    "mct = make_column_transformer((ohe, cat_feats), remainder=\"passthrough\", verbose_feature_names_out=False)\n",
    "\n",
    "si = SimpleImputer(strategy=\"most_frequent\")\n",
    "\n",
    "ss = StandardScaler()\n",
    "logreg = LogisticRegression(max_iter=10_000)\n",
    "\n",
    "pipe3 = Pipeline([(\"ohe\", mct), (\"impu\", si), (\"sc\", ss), (\"clf\", logreg)])\n",
    "\n",
    "pipe3.fit(X_train, y_train)\n",
    "pipe3.score(X_train, y_train).round(3), pipe3.score(X_test, y_test).round(3)"
   ]
  },
  {
   "cell_type": "code",
   "execution_count": 61,
   "id": "c5c01817-9145-4242-9ba2-24a2e13f43c7",
   "metadata": {},
   "outputs": [
    {
     "data": {
      "image/png": "[encoded data removed]",
      "text/plain": [
       "<Figure size 432x288 with 2 Axes>"
      ]
     },
     "metadata": {
      "needs_background": "light"
     },
     "output_type": "display_data"
    }
   ],
   "source": [
    "ConfusionMatrixDisplay.from_estimator(pipe3,\n",
    "                                      X_train,\n",
    "                                      y_train,\n",
    "                                      cmap =\"Blues\",\n",
    "                                      display_labels=[\"fxnal\", \"repair\", \"non_fxnal\"],\n",
    "                                      normalize=\"true\");"
   ]
  },
  {
   "cell_type": "code",
   "execution_count": 62,
   "id": "81e3679e-9a4c-41cb-bb13-f066e9a0ca1b",
   "metadata": {},
   "outputs": [
    {
     "data": {
      "image/png": "[encoded data removed]",
      "text/plain": [
       "<Figure size 432x288 with 2 Axes>"
      ]
     },
     "metadata": {
      "needs_background": "light"
     },
     "output_type": "display_data"
    }
   ],
   "source": [
    "ConfusionMatrixDisplay.from_estimator(pipe3,\n",
    "                                      X_test,\n",
    "                                      y_test,\n",
    "                                      cmap =\"Blues\",\n",
    "                                      display_labels=[\"fxnal\", \"repair\", \"non_fxnal\"],\n",
    "                                      normalize=\"true\");"
   ]
  },
  {
   "cell_type": "markdown",
   "id": "e7ca51b8-b15f-494b-b67b-f7b7c05327d0",
   "metadata": {},
   "source": [
    "> The 9 numeric features are not useful for prediction"
   ]
  },
  {
   "cell_type": "code",
   "execution_count": 65,
   "id": "fcef67d2-e889-4ce0-995b-9b7221aa170c",
   "metadata": {},
   "outputs": [
    {
     "data": {
      "text/plain": [
       "0"
      ]
     },
     "execution_count": 65,
     "metadata": {},
     "output_type": "execute_result"
    }
   ],
   "source": [
    "X[\"lga\"].str.lower().str.contains(\"zanzibar\").sum()"
   ]
  },
  {
   "cell_type": "code",
   "execution_count": 66,
   "id": "eb64eedc-9f63-4d19-b0b3-a8623a689195",
   "metadata": {},
   "outputs": [
    {
     "data": {
      "text/plain": [
       "0"
      ]
     },
     "execution_count": 66,
     "metadata": {},
     "output_type": "execute_result"
    }
   ],
   "source": [
    "X[\"ward\"].str.lower().str.contains(\"zanzibar\").sum()"
   ]
  },
  {
   "cell_type": "code",
   "execution_count": 67,
   "id": "b27b48ce-65fb-426c-b83c-b4cd1150b485",
   "metadata": {},
   "outputs": [
    {
     "data": {
      "text/plain": [
       "0"
      ]
     },
     "execution_count": 67,
     "metadata": {},
     "output_type": "execute_result"
    }
   ],
   "source": [
    "X[\"region\"].str.lower().str.contains(\"zanzibar\").sum()"
   ]
  },
  {
   "cell_type": "code",
   "execution_count": 68,
   "id": "663d0100-bec7-4463-9303-7856d30d033a",
   "metadata": {},
   "outputs": [
    {
     "data": {
      "text/plain": [
       "0"
      ]
     },
     "execution_count": 68,
     "metadata": {},
     "output_type": "execute_result"
    }
   ],
   "source": [
    "X[\"basin\"].str.lower().str.contains(\"zanzibar\").sum()"
   ]
  },
  {
   "cell_type": "code",
   "execution_count": 69,
   "id": "5ba08e73-b174-4295-8255-33b4fefccf33",
   "metadata": {},
   "outputs": [
    {
     "data": {
      "text/plain": [
       "10"
      ]
     },
     "execution_count": 69,
     "metadata": {},
     "output_type": "execute_result"
    }
   ],
   "source": [
    "X[\"subvillage\"].str.lower().str.contains(\"zanzibar\").sum()"
   ]
  },
  {
   "cell_type": "code",
   "execution_count": 70,
   "id": "54c60be6-70bf-4369-963b-82dff7f01e9b",
   "metadata": {},
   "outputs": [],
   "source": [
    "zanzibar = X[\"subvillage\"].str.lower().str.contains(\"zanzibar\")"
   ]
  },
  {
   "cell_type": "code",
   "execution_count": 77,
   "id": "930ce986-da74-4722-bfe6-a99e6f668ce8",
   "metadata": {},
   "outputs": [
    {
     "data": {
      "text/plain": [
       "7440     Zanzibar\n",
       "7708     Zanzibar\n",
       "19990    Zanzibar\n",
       "22194    Zanzibar\n",
       "30146    Zanzibar\n",
       "51853    Zanzibar\n",
       "54487    Zanzibar\n",
       "55307    Zanzibar\n",
       "55392    Zanzibar\n",
       "56526    Zanzibar\n",
       "Name: subvillage, dtype: object"
      ]
     },
     "execution_count": 77,
     "metadata": {},
     "output_type": "execute_result"
    }
   ],
   "source": [
    "X[zanzibar == True][\"subvillage\"]"
   ]
  },
  {
   "cell_type": "code",
   "execution_count": null,
   "id": "a6f061e2-fe5f-4cc0-af62-8e0fea708113",
   "metadata": {},
   "outputs": [],
   "source": []
  }
 ],
 "metadata": {
  "kernelspec": {
   "display_name": "Python 3 (ipykernel)",
   "language": "python",
   "name": "python3"
  },
  "language_info": {
   "codemirror_mode": {
    "name": "ipython",
    "version": 3
   },
   "file_extension": ".py",
   "mimetype": "text/x-python",
   "name": "python",
   "nbconvert_exporter": "python",
   "pygments_lexer": "ipython3",
   "version": "3.9.7"
  }
 },
 "nbformat": 4,
 "nbformat_minor": 5
}
