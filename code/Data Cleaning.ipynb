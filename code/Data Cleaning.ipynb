{
 "cells": [
  {
   "cell_type": "markdown",
   "id": "5e412c73-99b7-4965-a58f-f39df4729e21",
   "metadata": {},
   "source": [
    "# ![](https://ga-dash.s3.amazonaws.com/production/assets/logo-9f88ae6c9c3871690e33280fcf557f33.png) Group Project: Tanzania Waterpoint Repair & Analysis"
   ]
  },
  {
   "cell_type": "markdown",
   "id": "ad5583a5-2ada-4841-a6d3-2c1f7eaace92",
   "metadata": {},
   "source": [
    "---"
   ]
  },
  {
   "cell_type": "markdown",
   "id": "7521b01e-024e-4325-bade-419c82fed69f",
   "metadata": {},
   "source": [
    "## Problem Statement"
   ]
  },
  {
   "cell_type": "markdown",
   "id": "5a7bfc64-fdc6-477e-9a60-fc4f23650ccb",
   "metadata": {},
   "source": []
  },
  {
   "cell_type": "markdown",
   "id": "fbeb57a9-fc20-4805-bec7-d761a0c92dbb",
   "metadata": {},
   "source": [
    "---"
   ]
  },
  {
   "cell_type": "markdown",
   "id": "5a71e56e-303b-4d37-b0f2-ba840446b12c",
   "metadata": {},
   "source": [
    "### Data Cleaning"
   ]
  },
  {
   "cell_type": "code",
   "execution_count": null,
   "id": "a31071b1-40f1-4e7c-bc6d-d1f09173e63e",
   "metadata": {},
   "outputs": [],
   "source": []
  }
 ],
 "metadata": {
  "kernelspec": {
   "display_name": "Python 3 (ipykernel)",
   "language": "python",
   "name": "python3"
  },
  "language_info": {
   "codemirror_mode": {
    "name": "ipython",
    "version": 3
   },
   "file_extension": ".py",
   "mimetype": "text/x-python",
   "name": "python",
   "nbconvert_exporter": "python",
   "pygments_lexer": "ipython3",
   "version": "3.9.7"
  }
 },
 "nbformat": 4,
 "nbformat_minor": 5
}
